{
 "cells": [
  {
   "cell_type": "markdown",
   "metadata": {},
   "source": [
    "## PySAL Change Log Statistics: Table Generation\n",
    "\n",
    "This notebook generates the summary statistics for use in the 6-month releases of PySAL, which is now a meta package. \n",
    "\n",
    "It assumes the subpackages have been git cloned in a directory below the location of this notebook. It also requires network connectivity for some of the reporting.\n",
    "\n",
    "Run this notebook after `100-gitcount.ipynb`\n"
   ]
  },
  {
   "cell_type": "code",
   "execution_count": 1,
   "metadata": {},
   "outputs": [
    {
     "name": "stderr",
     "output_type": "stream",
     "text": [
      "/tmp/ipykernel_43857/300035145.py:6: DeprecationWarning: \n",
      "Pyarrow will become a required dependency of pandas in the next major release of pandas (pandas 3.0),\n",
      "(to allow more performant data types, such as the Arrow string type, and better interoperability with other libraries)\n",
      "but was not found to be installed on your system.\n",
      "If this would cause problems for you,\n",
      "please provide us feedback at https://github.com/pandas-dev/pandas/issues/54466\n",
      "        \n",
      "  import pandas\n"
     ]
    }
   ],
   "source": [
    "from __future__ import print_function\n",
    "import os\n",
    "import json\n",
    "import re\n",
    "import sys\n",
    "import pandas\n",
    "import subprocess\n",
    "from subprocess import check_output\n",
    "\n",
    "#import yaml\n",
    "from datetime import datetime, timedelta, time\n",
    "\n",
    "from dateutil.parser import parse\n",
    "import pytz\n",
    "\n",
    "utc=pytz.UTC\n",
    "\n",
    "try:\n",
    "    from urllib import urlopen\n",
    "except:\n",
    "    from urllib.request import urlopen\n",
    "\n",
    "from release_info import release_date, start_date, PYSALVER\n",
    "\n",
    "since = datetime.combine(start_date, time(0,0))\n"
   ]
  },
  {
   "cell_type": "code",
   "execution_count": 2,
   "metadata": {},
   "outputs": [
    {
     "data": {
      "text/plain": [
       "datetime.date(2024, 1, 31)"
      ]
     },
     "execution_count": 2,
     "metadata": {},
     "output_type": "execute_result"
    }
   ],
   "source": [
    "release_date"
   ]
  },
  {
   "cell_type": "code",
   "execution_count": 3,
   "metadata": {},
   "outputs": [],
   "source": [
    "CWD = os.path.abspath(os.path.curdir)"
   ]
  },
  {
   "cell_type": "code",
   "execution_count": 4,
   "metadata": {},
   "outputs": [
    {
     "data": {
      "text/plain": [
       "'/home/serge/para/1_projects/code-pysal-meta/pysal/tools'"
      ]
     },
     "execution_count": 4,
     "metadata": {},
     "output_type": "execute_result"
    }
   ],
   "source": [
    "CWD"
   ]
  },
  {
   "cell_type": "code",
   "execution_count": 5,
   "metadata": {},
   "outputs": [],
   "source": [
    "with open('frozen.txt', 'r') as package_list:\n",
    "    packages = package_list.readlines()\n",
    "    packages = dict([package.strip().split(\">=\") for package in packages])"
   ]
  },
  {
   "cell_type": "code",
   "execution_count": 6,
   "metadata": {},
   "outputs": [
    {
     "data": {
      "text/plain": [
       "{'libpysal': '4.11.0',\n",
       " 'access': '1.1.9',\n",
       " 'esda': '2.5.1',\n",
       " 'giddy': '2.3.5',\n",
       " 'inequality': '1.0.1',\n",
       " 'pointpats': '2.5.0',\n",
       " 'segregation': '2.5',\n",
       " 'spaghetti': '1.7.6',\n",
       " 'mgwr': '2.2.1',\n",
       " 'momepy': '0.7.2',\n",
       " 'spglm': '1.1.0',\n",
       " 'spint': '1.0.7',\n",
       " 'spreg': '1.5.0',\n",
       " 'spvcm': '0.3.0',\n",
       " 'tobler': '0.11.2',\n",
       " 'mapclassify': '2.7.0',\n",
       " 'splot': '1.1.5.post1',\n",
       " 'spopt': '0.6.1'}"
      ]
     },
     "execution_count": 6,
     "metadata": {},
     "output_type": "execute_result"
    }
   ],
   "source": [
    "packages"
   ]
  },
  {
   "cell_type": "markdown",
   "metadata": {},
   "source": [
    "import pysal\n",
    "packages['pysal'] = pysal.__version__"
   ]
  },
  {
   "cell_type": "code",
   "execution_count": 7,
   "metadata": {},
   "outputs": [],
   "source": [
    "import pickle"
   ]
  },
  {
   "cell_type": "code",
   "execution_count": 8,
   "metadata": {},
   "outputs": [],
   "source": [
    "issues_closed = pickle.load(open(\"issues_closed.p\", 'rb'))\n",
    "pulls_closed = pickle.load(open('pulls_closed.p', 'rb'))"
   ]
  },
  {
   "cell_type": "code",
   "execution_count": 9,
   "metadata": {},
   "outputs": [
    {
     "data": {
      "text/plain": [
       "dict"
      ]
     },
     "execution_count": 9,
     "metadata": {},
     "output_type": "execute_result"
    }
   ],
   "source": [
    "type(issues_closed)"
   ]
  },
  {
   "cell_type": "code",
   "execution_count": 10,
   "metadata": {},
   "outputs": [
    {
     "data": {
      "text/plain": [
       "dict_keys(['libpysal', 'access', 'esda', 'giddy', 'inequality', 'pointpats', 'segregation', 'spaghetti', 'mgwr', 'momepy', 'spglm', 'spint', 'spreg', 'spvcm', 'tobler', 'mapclassify', 'splot', 'spopt', 'pysal'])"
      ]
     },
     "execution_count": 10,
     "metadata": {},
     "output_type": "execute_result"
    }
   ],
   "source": [
    "issues_closed.keys()"
   ]
  },
  {
   "cell_type": "code",
   "execution_count": 11,
   "metadata": {},
   "outputs": [],
   "source": [
    "from release_info import get_pypi_info, get_github_info, clone_masters"
   ]
  },
  {
   "cell_type": "code",
   "execution_count": 12,
   "metadata": {},
   "outputs": [],
   "source": [
    "#github_releases = get_github_info()\n",
    "\n",
    "github_releases = pickle.load(open(\"releases.p\", 'rb'))\n"
   ]
  },
  {
   "cell_type": "code",
   "execution_count": 13,
   "metadata": {},
   "outputs": [],
   "source": [
    "from datetime import datetime"
   ]
  },
  {
   "cell_type": "code",
   "execution_count": 14,
   "metadata": {},
   "outputs": [],
   "source": [
    "#pysal_date = datetime.strptime('2021-07-31T12:00:00Z', '%Y-%m-%dT%H:%M:%SZ')\n",
    "pysal_date = release_date\n",
    "#ISO8601 = \"%Y-%m-%dT%H:%M:%SZ\"\n"
   ]
  },
  {
   "cell_type": "code",
   "execution_count": 15,
   "metadata": {},
   "outputs": [],
   "source": [
    "pysal_rel = {'version': f'v{PYSALVER}',\n",
    "            'release_date': release_date}\n",
    "github_releases['pysal'] = pysal_rel"
   ]
  },
  {
   "cell_type": "code",
   "execution_count": 16,
   "metadata": {},
   "outputs": [
    {
     "data": {
      "text/plain": [
       "{'libpysal': {'version': 'v4.11.0',\n",
       "  'url': 'https://api.github.com/repos/pysal/libpysal/tarball/v4.11.0',\n",
       "  'release_date': datetime.datetime(2024, 6, 10, 19, 39, 46)},\n",
       " 'access': {'version': 'v1.1.9',\n",
       "  'url': 'https://api.github.com/repos/pysal/access/tarball/v1.1.9',\n",
       "  'release_date': datetime.datetime(2023, 10, 6, 2, 43, 55)},\n",
       " 'esda': {'version': 'v2.5.1',\n",
       "  'url': 'https://api.github.com/repos/pysal/esda/tarball/v2.5.1',\n",
       "  'release_date': datetime.datetime(2023, 10, 24, 17, 26, 14)},\n",
       " 'giddy': {'version': 'v2.3.5',\n",
       "  'url': 'https://api.github.com/repos/pysal/giddy/tarball/v2.3.5',\n",
       "  'release_date': datetime.datetime(2024, 1, 16, 22, 39, 24)},\n",
       " 'inequality': {'version': 'v1.0.1',\n",
       "  'url': 'https://api.github.com/repos/pysal/inequality/tarball/v1.0.1',\n",
       "  'release_date': datetime.datetime(2023, 10, 28, 23, 10, 33)},\n",
       " 'pointpats': {'version': 'v2.5.0',\n",
       "  'url': 'https://api.github.com/repos/pysal/pointpats/tarball/v2.5.0',\n",
       "  'release_date': datetime.datetime(2024, 7, 4, 5, 5, 17)},\n",
       " 'segregation': {'version': 'v2.5',\n",
       "  'url': 'https://api.github.com/repos/pysal/segregation/tarball/v2.5',\n",
       "  'release_date': datetime.datetime(2023, 8, 24, 16, 41, 39)},\n",
       " 'spaghetti': {'version': 'v1.7.6',\n",
       "  'url': 'https://api.github.com/repos/pysal/spaghetti/tarball/v1.7.6',\n",
       "  'release_date': datetime.datetime(2024, 6, 21, 13, 2, 5)},\n",
       " 'mgwr': {'version': 'v2.2.1',\n",
       "  'url': 'https://api.github.com/repos/pysal/mgwr/tarball/v2.2.1',\n",
       "  'release_date': datetime.datetime(2024, 1, 6, 16, 43, 47)},\n",
       " 'momepy': {'version': 'v0.7.2',\n",
       "  'url': 'https://api.github.com/repos/pysal/momepy/tarball/v0.7.2',\n",
       "  'release_date': datetime.datetime(2024, 6, 27, 8, 26, 8)},\n",
       " 'spglm': {'version': 'v1.1.0',\n",
       "  'url': 'https://api.github.com/repos/pysal/spglm/tarball/v1.1.0',\n",
       "  'release_date': datetime.datetime(2023, 10, 25, 13, 50, 11)},\n",
       " 'spint': {'version': 'v1.0.7',\n",
       "  'url': 'https://api.github.com/repos/pysal/spint/tarball/v1.0.7',\n",
       "  'release_date': datetime.datetime(2020, 9, 9, 2, 28, 50)},\n",
       " 'spreg': {'version': 'v1.5.0',\n",
       "  'url': 'https://api.github.com/repos/pysal/spreg/tarball/v1.5.0',\n",
       "  'release_date': datetime.datetime(2024, 7, 3, 14, 17, 21)},\n",
       " 'spvcm': {'version': 'v0.3.0',\n",
       "  'url': 'https://api.github.com/repos/pysal/spvcm/tarball/v0.3.0',\n",
       "  'release_date': datetime.datetime(2020, 2, 2, 19, 42, 39)},\n",
       " 'tobler': {'version': 'v0.11.2',\n",
       "  'url': 'https://api.github.com/repos/pysal/tobler/tarball/v0.11.2',\n",
       "  'release_date': datetime.datetime(2023, 9, 26, 1, 19, 23)},\n",
       " 'mapclassify': {'version': 'v2.7.0',\n",
       "  'url': 'https://api.github.com/repos/pysal/mapclassify/tarball/v2.7.0',\n",
       "  'release_date': datetime.datetime(2024, 7, 4, 5, 42)},\n",
       " 'splot': {'version': 'v1.1.5.post1',\n",
       "  'url': 'https://api.github.com/repos/pysal/splot/tarball/v1.1.5.post1',\n",
       "  'release_date': datetime.datetime(2022, 4, 13, 21, 13, 27)},\n",
       " 'spopt': {'version': 'v0.6.1',\n",
       "  'url': 'https://api.github.com/repos/pysal/spopt/tarball/v0.6.1',\n",
       "  'release_date': datetime.datetime(2024, 6, 20, 13, 41, 36)},\n",
       " 'pysal': {'version': 'v24.01', 'release_date': datetime.date(2024, 1, 31)}}"
      ]
     },
     "execution_count": 16,
     "metadata": {},
     "output_type": "execute_result"
    }
   ],
   "source": [
    "github_releases"
   ]
  },
  {
   "cell_type": "code",
   "execution_count": 17,
   "metadata": {},
   "outputs": [
    {
     "name": "stdout",
     "output_type": "stream",
     "text": [
      "libpysal 2024-06-10 19:39:46 51 36 0 0\n",
      "access 2023-10-06 02:43:55 0 0 0 0\n",
      "esda 2023-10-24 17:26:14 9 0 0 0\n",
      "giddy 2024-01-16 22:39:24 15 0 0 0\n",
      "inequality 2023-10-28 23:10:33 3 0 2 0\n",
      "pointpats 2024-07-04 05:05:17 9 8 6 5\n",
      "segregation 2023-08-24 16:41:39 2 0 0 0\n",
      "spaghetti 2024-06-21 13:02:05 12 10 0 0\n",
      "mgwr 2024-01-06 16:43:47 4 0 0 0\n",
      "momepy 2024-06-27 08:26:08 95 90 0 0\n",
      "spglm 2023-10-25 13:50:11 2 0 2 0\n",
      "spint 2020-09-09 02:28:50 0 0 0 0\n",
      "spreg 2024-07-03 14:17:21 7 7 7 7\n",
      "spvcm 2020-02-02 19:42:39 0 0 0 0\n",
      "tobler 2023-09-26 01:19:23 11 0 0 0\n",
      "mapclassify 2024-07-04 05:42:00 14 14 0 0\n",
      "splot 2022-04-13 21:13:27 0 0 0 0\n",
      "spopt 2024-06-20 13:41:36 18 16 0 0\n"
     ]
    }
   ],
   "source": [
    "from datetime import datetime\n",
    "datetime.fromtimestamp(0)\n",
    "ISO8601 = \"%Y-%m-%dT%H:%M:%SZ\"\n",
    "\n",
    "\n",
    "final_pulls = {}\n",
    "final_issues = {}\n",
    "for package in packages:\n",
    "    filtered_issues = []\n",
    "    filtered_pulls = []\n",
    "    released = github_releases[package]['release_date']\n",
    "    package_pulls = pulls_closed[package]\n",
    "    package_issues = issues_closed[package]\n",
    "    for issue in package_issues:\n",
    "        #print(issue['number'], issue['title'], issue['closed_at'])\n",
    "        closed = datetime.strptime(issue['closed_at'], ISO8601)\n",
    "        if closed <= released and closed > since:\n",
    "            filtered_issues.append(issue)\n",
    "    final_issues[package] = filtered_issues\n",
    "    for pull in package_pulls:\n",
    "        #print(pull['number'], pull['title'], pull['closed_at'])\n",
    "        closed = datetime.strptime(pull['closed_at'], ISO8601)\n",
    "        if closed <= released and closed > since:\n",
    "            filtered_pulls.append(pull)\n",
    "    final_pulls[package] = filtered_pulls\n",
    "    print(package, released, len(package_issues), len(filtered_issues), len(package_pulls),\n",
    "         len(filtered_pulls))"
   ]
  },
  {
   "cell_type": "code",
   "execution_count": 18,
   "metadata": {},
   "outputs": [],
   "source": [
    "issue_details = final_issues\n",
    "pull_details = final_pulls"
   ]
  },
  {
   "cell_type": "code",
   "execution_count": 19,
   "metadata": {},
   "outputs": [
    {
     "data": {
      "text/plain": [
       "{'libpysal': '4.11.0',\n",
       " 'access': '1.1.9',\n",
       " 'esda': '2.5.1',\n",
       " 'giddy': '2.3.5',\n",
       " 'inequality': '1.0.1',\n",
       " 'pointpats': '2.5.0',\n",
       " 'segregation': '2.5',\n",
       " 'spaghetti': '1.7.6',\n",
       " 'mgwr': '2.2.1',\n",
       " 'momepy': '0.7.2',\n",
       " 'spglm': '1.1.0',\n",
       " 'spint': '1.0.7',\n",
       " 'spreg': '1.5.0',\n",
       " 'spvcm': '0.3.0',\n",
       " 'tobler': '0.11.2',\n",
       " 'mapclassify': '2.7.0',\n",
       " 'splot': '1.1.5.post1',\n",
       " 'spopt': '0.6.1'}"
      ]
     },
     "execution_count": 19,
     "metadata": {},
     "output_type": "execute_result"
    }
   ],
   "source": [
    "packages"
   ]
  },
  {
   "cell_type": "code",
   "execution_count": 20,
   "metadata": {},
   "outputs": [],
   "source": [
    "github_releases['pysal']['release_date'] = release_date"
   ]
  },
  {
   "cell_type": "code",
   "execution_count": 21,
   "metadata": {},
   "outputs": [
    {
     "data": {
      "text/plain": [
       "datetime.datetime(2024, 6, 20, 13, 41, 36)"
      ]
     },
     "execution_count": 21,
     "metadata": {},
     "output_type": "execute_result"
    }
   ],
   "source": [
    "released"
   ]
  },
  {
   "cell_type": "code",
   "execution_count": 22,
   "metadata": {},
   "outputs": [
    {
     "data": {
      "text/plain": [
       "dict_keys(['libpysal', 'access', 'esda', 'giddy', 'inequality', 'pointpats', 'segregation', 'spaghetti', 'mgwr', 'momepy', 'spglm', 'spint', 'spreg', 'spvcm', 'tobler', 'mapclassify', 'splot', 'spopt'])"
      ]
     },
     "execution_count": 22,
     "metadata": {},
     "output_type": "execute_result"
    }
   ],
   "source": [
    "packages.keys()"
   ]
  },
  {
   "cell_type": "code",
   "execution_count": 23,
   "metadata": {},
   "outputs": [],
   "source": [
    "spvcm = packages['spvcm']"
   ]
  },
  {
   "cell_type": "code",
   "execution_count": 24,
   "metadata": {},
   "outputs": [],
   "source": [
    "## skip packages not released since last meta release\n",
    "\n",
    "# handle meta\n",
    "mrd = github_releases['pysal']['release_date']\n",
    "github_releases['pysal']['release_date'] =  datetime.combine(mrd, time(0,0))\n"
   ]
  },
  {
   "cell_type": "code",
   "execution_count": 25,
   "metadata": {},
   "outputs": [
    {
     "name": "stdout",
     "output_type": "stream",
     "text": [
      "new:  libpysal\n",
      "new:  access\n",
      "new:  esda\n",
      "new:  giddy\n",
      "new:  inequality\n",
      "new:  pointpats\n",
      "new:  segregation\n",
      "new:  spaghetti\n",
      "new:  mgwr\n",
      "new:  momepy\n",
      "new:  spglm\n",
      "old: spint\n",
      "new:  spreg\n",
      "old: spvcm\n",
      "new:  tobler\n",
      "new:  mapclassify\n",
      "old: splot\n",
      "new:  spopt\n",
      "new:  pysal\n"
     ]
    }
   ],
   "source": [
    "for package in github_releases:\n",
    "    if github_releases[package]['release_date']>since:\n",
    "        print(\"new: \",package)\n",
    "    else:\n",
    "        print('old:', package)"
   ]
  },
  {
   "cell_type": "code",
   "execution_count": 26,
   "metadata": {},
   "outputs": [
    {
     "data": {
      "text/plain": [
       "datetime.datetime(2024, 1, 31, 0, 0)"
      ]
     },
     "execution_count": 26,
     "metadata": {},
     "output_type": "execute_result"
    }
   ],
   "source": [
    "github_releases[package]['release_date']"
   ]
  },
  {
   "cell_type": "code",
   "execution_count": 27,
   "metadata": {},
   "outputs": [
    {
     "data": {
      "text/plain": [
       "datetime.datetime(2023, 7, 31, 0, 0)"
      ]
     },
     "execution_count": 27,
     "metadata": {},
     "output_type": "execute_result"
    }
   ],
   "source": [
    "since"
   ]
  },
  {
   "cell_type": "code",
   "execution_count": 28,
   "metadata": {},
   "outputs": [
    {
     "data": {
      "text/plain": [
       "{'libpysal': {'version': 'v4.11.0',\n",
       "  'url': 'https://api.github.com/repos/pysal/libpysal/tarball/v4.11.0',\n",
       "  'release_date': datetime.datetime(2024, 6, 10, 19, 39, 46)},\n",
       " 'access': {'version': 'v1.1.9',\n",
       "  'url': 'https://api.github.com/repos/pysal/access/tarball/v1.1.9',\n",
       "  'release_date': datetime.datetime(2023, 10, 6, 2, 43, 55)},\n",
       " 'esda': {'version': 'v2.5.1',\n",
       "  'url': 'https://api.github.com/repos/pysal/esda/tarball/v2.5.1',\n",
       "  'release_date': datetime.datetime(2023, 10, 24, 17, 26, 14)},\n",
       " 'giddy': {'version': 'v2.3.5',\n",
       "  'url': 'https://api.github.com/repos/pysal/giddy/tarball/v2.3.5',\n",
       "  'release_date': datetime.datetime(2024, 1, 16, 22, 39, 24)},\n",
       " 'inequality': {'version': 'v1.0.1',\n",
       "  'url': 'https://api.github.com/repos/pysal/inequality/tarball/v1.0.1',\n",
       "  'release_date': datetime.datetime(2023, 10, 28, 23, 10, 33)},\n",
       " 'pointpats': {'version': 'v2.5.0',\n",
       "  'url': 'https://api.github.com/repos/pysal/pointpats/tarball/v2.5.0',\n",
       "  'release_date': datetime.datetime(2024, 7, 4, 5, 5, 17)},\n",
       " 'segregation': {'version': 'v2.5',\n",
       "  'url': 'https://api.github.com/repos/pysal/segregation/tarball/v2.5',\n",
       "  'release_date': datetime.datetime(2023, 8, 24, 16, 41, 39)},\n",
       " 'spaghetti': {'version': 'v1.7.6',\n",
       "  'url': 'https://api.github.com/repos/pysal/spaghetti/tarball/v1.7.6',\n",
       "  'release_date': datetime.datetime(2024, 6, 21, 13, 2, 5)},\n",
       " 'mgwr': {'version': 'v2.2.1',\n",
       "  'url': 'https://api.github.com/repos/pysal/mgwr/tarball/v2.2.1',\n",
       "  'release_date': datetime.datetime(2024, 1, 6, 16, 43, 47)},\n",
       " 'momepy': {'version': 'v0.7.2',\n",
       "  'url': 'https://api.github.com/repos/pysal/momepy/tarball/v0.7.2',\n",
       "  'release_date': datetime.datetime(2024, 6, 27, 8, 26, 8)},\n",
       " 'spglm': {'version': 'v1.1.0',\n",
       "  'url': 'https://api.github.com/repos/pysal/spglm/tarball/v1.1.0',\n",
       "  'release_date': datetime.datetime(2023, 10, 25, 13, 50, 11)},\n",
       " 'spint': {'version': 'v1.0.7',\n",
       "  'url': 'https://api.github.com/repos/pysal/spint/tarball/v1.0.7',\n",
       "  'release_date': datetime.datetime(2020, 9, 9, 2, 28, 50)},\n",
       " 'spreg': {'version': 'v1.5.0',\n",
       "  'url': 'https://api.github.com/repos/pysal/spreg/tarball/v1.5.0',\n",
       "  'release_date': datetime.datetime(2024, 7, 3, 14, 17, 21)},\n",
       " 'spvcm': {'version': 'v0.3.0',\n",
       "  'url': 'https://api.github.com/repos/pysal/spvcm/tarball/v0.3.0',\n",
       "  'release_date': datetime.datetime(2020, 2, 2, 19, 42, 39)},\n",
       " 'tobler': {'version': 'v0.11.2',\n",
       "  'url': 'https://api.github.com/repos/pysal/tobler/tarball/v0.11.2',\n",
       "  'release_date': datetime.datetime(2023, 9, 26, 1, 19, 23)},\n",
       " 'mapclassify': {'version': 'v2.7.0',\n",
       "  'url': 'https://api.github.com/repos/pysal/mapclassify/tarball/v2.7.0',\n",
       "  'release_date': datetime.datetime(2024, 7, 4, 5, 42)},\n",
       " 'splot': {'version': 'v1.1.5.post1',\n",
       "  'url': 'https://api.github.com/repos/pysal/splot/tarball/v1.1.5.post1',\n",
       "  'release_date': datetime.datetime(2022, 4, 13, 21, 13, 27)},\n",
       " 'spopt': {'version': 'v0.6.1',\n",
       "  'url': 'https://api.github.com/repos/pysal/spopt/tarball/v0.6.1',\n",
       "  'release_date': datetime.datetime(2024, 6, 20, 13, 41, 36)},\n",
       " 'pysal': {'version': 'v24.01',\n",
       "  'release_date': datetime.datetime(2024, 1, 31, 0, 0)}}"
      ]
     },
     "execution_count": 28,
     "metadata": {},
     "output_type": "execute_result"
    }
   ],
   "source": [
    "github_releases"
   ]
  },
  {
   "cell_type": "code",
   "execution_count": 29,
   "metadata": {},
   "outputs": [
    {
     "data": {
      "text/plain": [
       "'--since=\"2023-07-31\"'"
      ]
     },
     "execution_count": 29,
     "metadata": {},
     "output_type": "execute_result"
    }
   ],
   "source": [
    "since_date = '--since=\"{start}\"'.format(start=start_date.strftime(\"%Y-%m-%d\"))\n",
    "since_date\n",
    "                                        "
   ]
  },
  {
   "cell_type": "code",
   "execution_count": 30,
   "metadata": {},
   "outputs": [
    {
     "name": "stdout",
     "output_type": "stream",
     "text": [
      "2024-06-10\n",
      "libpysal 554 536 2024-06-10\n",
      "2023-10-06\n",
      "access 0 0 2023-10-06\n",
      "2023-10-24\n",
      "esda 40 16 2023-10-24\n",
      "2024-01-16\n",
      "giddy 84 60 2024-01-16\n",
      "2023-10-28\n",
      "inequality 10 3 2023-10-28\n",
      "2024-07-04\n",
      "pointpats 114 114 2024-07-04\n",
      "2023-08-24\n",
      "segregation 25 11 2023-08-24\n",
      "2024-06-21\n",
      "spaghetti 27 26 2024-06-21\n",
      "2024-01-06\n",
      "mgwr 22 22 2024-01-06\n",
      "2024-06-27\n",
      "momepy 92 91 2024-06-27\n",
      "2023-10-25\n",
      "spglm 48 43 2023-10-25\n",
      "2020-09-09\n",
      "spint 48 0 2020-09-09\n",
      "2024-07-03\n",
      "spreg 42 42 2024-07-03\n",
      "2020-02-02\n",
      "spvcm 42 0 2020-02-02\n",
      "2023-09-26\n",
      "tobler 59 30 2023-09-26\n",
      "2024-07-04\n",
      "mapclassify 62 62 2024-07-04\n",
      "2022-04-13\n",
      "splot 62 0 2022-04-13\n",
      "2024-06-20\n",
      "spopt 73 72 2024-06-20\n"
     ]
    }
   ],
   "source": [
    "# commits\n",
    "cmd = ['git', 'log', '--oneline', since_date]\n",
    "\n",
    "activity = {}\n",
    "total_commits = 0\n",
    "tag_dates = {}\n",
    "ncommits_total = 0\n",
    "for subpackage in packages:\n",
    "    released = github_releases[subpackage]['release_date']\n",
    "    tag_date = released.strftime(\"%Y-%m-%d\")\n",
    "    tag_dates[subpackage] = tag_date\n",
    "    print(tag_date)\n",
    "    #tag_date = tag_dates[subpackage]\n",
    "    ncommits = 0\n",
    "    if released > since:\n",
    "        os.chdir(CWD)\n",
    "        os.chdir('tmp/{subpackage}'.format(subpackage=subpackage))\n",
    "        cmd_until = cmd + ['--until=\"{tag_date}\"'.format(tag_date=tag_date)]\n",
    "        ncommits = len(check_output(cmd_until).splitlines())\n",
    "        ncommits_total = len(check_output(cmd).splitlines())\n",
    "    print(subpackage, ncommits_total, ncommits, tag_date)\n",
    "    total_commits += ncommits\n",
    "    activity[subpackage] = ncommits"
   ]
  },
  {
   "cell_type": "code",
   "execution_count": 31,
   "metadata": {},
   "outputs": [
    {
     "data": {
      "text/plain": [
       "{'libpysal': 536,\n",
       " 'access': 0,\n",
       " 'esda': 16,\n",
       " 'giddy': 60,\n",
       " 'inequality': 3,\n",
       " 'pointpats': 114,\n",
       " 'segregation': 11,\n",
       " 'spaghetti': 26,\n",
       " 'mgwr': 22,\n",
       " 'momepy': 91,\n",
       " 'spglm': 43,\n",
       " 'spint': 0,\n",
       " 'spreg': 42,\n",
       " 'spvcm': 0,\n",
       " 'tobler': 30,\n",
       " 'mapclassify': 62,\n",
       " 'splot': 0,\n",
       " 'spopt': 72}"
      ]
     },
     "execution_count": 31,
     "metadata": {},
     "output_type": "execute_result"
    }
   ],
   "source": [
    "activity"
   ]
  },
  {
   "cell_type": "code",
   "execution_count": null,
   "metadata": {},
   "outputs": [],
   "source": []
  },
  {
   "cell_type": "code",
   "execution_count": 32,
   "metadata": {},
   "outputs": [
    {
     "data": {
      "text/plain": [
       "'spopt'"
      ]
     },
     "execution_count": 32,
     "metadata": {},
     "output_type": "execute_result"
    }
   ],
   "source": [
    "subpackage"
   ]
  },
  {
   "cell_type": "code",
   "execution_count": 33,
   "metadata": {},
   "outputs": [
    {
     "data": {
      "text/plain": [
       "'/home/serge/para/1_projects/code-pysal-meta/pysal/tools'"
      ]
     },
     "execution_count": 33,
     "metadata": {},
     "output_type": "execute_result"
    }
   ],
   "source": [
    "CWD"
   ]
  },
  {
   "cell_type": "code",
   "execution_count": 34,
   "metadata": {},
   "outputs": [
    {
     "name": "stdout",
     "output_type": "stream",
     "text": [
      "536\n",
      "libpysal 554 536 2024-06-10\n",
      "0\n",
      "access 0 0 2023-10-06\n",
      "16\n",
      "esda 40 16 2023-10-24\n",
      "60\n",
      "giddy 84 60 2024-01-16\n",
      "3\n",
      "inequality 10 3 2023-10-28\n",
      "114\n",
      "pointpats 114 114 2024-07-04\n",
      "11\n",
      "segregation 25 11 2023-08-24\n",
      "26\n",
      "spaghetti 27 26 2024-06-21\n",
      "22\n",
      "mgwr 22 22 2024-01-06\n",
      "91\n",
      "momepy 92 91 2024-06-27\n",
      "43\n",
      "spglm 48 43 2023-10-25\n",
      "42\n",
      "spreg 42 42 2024-07-03\n",
      "30\n",
      "tobler 59 30 2023-09-26\n",
      "62\n",
      "mapclassify 62 62 2024-07-04\n",
      "72\n",
      "spopt 73 72 2024-06-20\n"
     ]
    }
   ],
   "source": [
    "# commits\n",
    "cmd = ['git', 'log', '--oneline', since_date]\n",
    "\n",
    "activity = {}\n",
    "total_commits = 0\n",
    "for subpackage in packages:\n",
    "    ncommits = 0\n",
    "    tag_date = tag_dates[subpackage]\n",
    "    released = github_releases[subpackage]['release_date']\n",
    "    if released > since:\n",
    "        os.chdir(CWD)\n",
    "        os.chdir('tmp/{subpackage}'.format(subpackage=subpackage))\n",
    "        cmd_until = cmd + ['--until=\"{tag_date}\"'.format(tag_date=tag_date)]\n",
    "        ncommits = len(check_output(cmd_until).splitlines())\n",
    "        print(ncommits)\n",
    "        ncommits_total = len(check_output(cmd).splitlines())\n",
    "        print(subpackage, ncommits_total, ncommits, tag_date)\n",
    "    total_commits += ncommits\n",
    "    activity[subpackage] = ncommits"
   ]
  },
  {
   "cell_type": "code",
   "execution_count": 35,
   "metadata": {},
   "outputs": [],
   "source": [
    "identities = {'Levi John Wolf': ('ljwolf', 'Levi John Wolf'),\n",
    "              'Serge Rey': ('Serge Rey', 'Sergio Rey', 'sjsrey', 'serge'),\n",
    "              'Wei Kang': ('Wei Kang', 'weikang9009'),\n",
    "              'Dani Arribas-Bel': ('Dani Arribas-Bel', 'darribas'),\n",
    "              'Antti Härkönen': ( 'antth', 'Antti Härkönen', 'Antti Härkönen', 'Antth'  ),\n",
    "              'Juan C Duque': ('Juan C Duque', \"Juan Duque\"),\n",
    "              'Renan Xavier Cortes': ('Renan Xavier Cortes', 'renanxcortes', 'Renan Xavier Cortes'   ),\n",
    "              'Taylor Oshan': ('Tayloroshan', 'Taylor Oshan', 'TaylorOshan'),\n",
    "              'Tom Gertin': ('@Tomgertin', 'Tom Gertin', '@tomgertin')\n",
    "}\n",
    "\n",
    "def regularize_identity(string):\n",
    "    string = string.decode()\n",
    "    for name, aliases in identities.items():\n",
    "        for alias in aliases:\n",
    "            if alias in string:\n",
    "                string = string.replace(alias, name)\n",
    "    if len(string.split(' '))>1:\n",
    "        string = string.title()\n",
    "    return string.lstrip('* ')"
   ]
  },
  {
   "cell_type": "code",
   "execution_count": 36,
   "metadata": {},
   "outputs": [],
   "source": [
    "author_cmd = ['git', 'log', '--format=* %aN', since_date]"
   ]
  },
  {
   "cell_type": "code",
   "execution_count": 37,
   "metadata": {},
   "outputs": [],
   "source": [
    "author_cmd.append('blank')"
   ]
  },
  {
   "cell_type": "code",
   "execution_count": 38,
   "metadata": {},
   "outputs": [
    {
     "data": {
      "text/plain": [
       "['git', 'log', '--format=* %aN', '--since=\"2023-07-31\"', 'blank']"
      ]
     },
     "execution_count": 38,
     "metadata": {},
     "output_type": "execute_result"
    }
   ],
   "source": [
    "author_cmd"
   ]
  },
  {
   "cell_type": "code",
   "execution_count": 39,
   "metadata": {},
   "outputs": [],
   "source": [
    "from collections import Counter"
   ]
  },
  {
   "cell_type": "code",
   "execution_count": 40,
   "metadata": {},
   "outputs": [
    {
     "data": {
      "text/plain": [
       "{'libpysal': '2024-06-10',\n",
       " 'access': '2023-10-06',\n",
       " 'esda': '2023-10-24',\n",
       " 'giddy': '2024-01-16',\n",
       " 'inequality': '2023-10-28',\n",
       " 'pointpats': '2024-07-04',\n",
       " 'segregation': '2023-08-24',\n",
       " 'spaghetti': '2024-06-21',\n",
       " 'mgwr': '2024-01-06',\n",
       " 'momepy': '2024-06-27',\n",
       " 'spglm': '2023-10-25',\n",
       " 'spint': '2020-09-09',\n",
       " 'spreg': '2024-07-03',\n",
       " 'spvcm': '2020-02-02',\n",
       " 'tobler': '2023-09-26',\n",
       " 'mapclassify': '2024-07-04',\n",
       " 'splot': '2022-04-13',\n",
       " 'spopt': '2024-06-20'}"
      ]
     },
     "execution_count": 40,
     "metadata": {},
     "output_type": "execute_result"
    }
   ],
   "source": [
    "tag_dates"
   ]
  },
  {
   "cell_type": "code",
   "execution_count": 41,
   "metadata": {},
   "outputs": [
    {
     "name": "stdout",
     "output_type": "stream",
     "text": [
      "['git', 'log', '--oneline', '--since=\"2023-07-31\"']\n",
      "libpysal ['git', 'log', '--format=* %aN', '--since=\"2023-07-31\"', '--until=\"2024-06-11\"']\n",
      "['git', 'log', '--oneline', '--since=\"2023-07-31\"']\n",
      "access ['git', 'log', '--format=* %aN', '--since=\"2023-07-31\"', '--until=\"2023-10-07\"']\n",
      "['git', 'log', '--oneline', '--since=\"2023-07-31\"']\n",
      "esda ['git', 'log', '--format=* %aN', '--since=\"2023-07-31\"', '--until=\"2023-10-25\"']\n",
      "['git', 'log', '--oneline', '--since=\"2023-07-31\"']\n",
      "giddy ['git', 'log', '--format=* %aN', '--since=\"2023-07-31\"', '--until=\"2024-01-17\"']\n",
      "['git', 'log', '--oneline', '--since=\"2023-07-31\"']\n",
      "inequality ['git', 'log', '--format=* %aN', '--since=\"2023-07-31\"', '--until=\"2023-10-29\"']\n",
      "['git', 'log', '--oneline', '--since=\"2023-07-31\"']\n",
      "pointpats ['git', 'log', '--format=* %aN', '--since=\"2023-07-31\"', '--until=\"2024-07-05\"']\n",
      "['git', 'log', '--oneline', '--since=\"2023-07-31\"']\n",
      "segregation ['git', 'log', '--format=* %aN', '--since=\"2023-07-31\"', '--until=\"2023-08-25\"']\n",
      "['git', 'log', '--oneline', '--since=\"2023-07-31\"']\n",
      "spaghetti ['git', 'log', '--format=* %aN', '--since=\"2023-07-31\"', '--until=\"2024-06-22\"']\n",
      "['git', 'log', '--oneline', '--since=\"2023-07-31\"']\n",
      "mgwr ['git', 'log', '--format=* %aN', '--since=\"2023-07-31\"', '--until=\"2024-01-07\"']\n",
      "['git', 'log', '--oneline', '--since=\"2023-07-31\"']\n",
      "momepy ['git', 'log', '--format=* %aN', '--since=\"2023-07-31\"', '--until=\"2024-06-28\"']\n",
      "['git', 'log', '--oneline', '--since=\"2023-07-31\"']\n",
      "spglm ['git', 'log', '--format=* %aN', '--since=\"2023-07-31\"', '--until=\"2023-10-26\"']\n",
      "['git', 'log', '--oneline', '--since=\"2023-07-31\"']\n",
      "spreg ['git', 'log', '--format=* %aN', '--since=\"2023-07-31\"', '--until=\"2024-07-04\"']\n",
      "['git', 'log', '--oneline', '--since=\"2023-07-31\"']\n",
      "tobler ['git', 'log', '--format=* %aN', '--since=\"2023-07-31\"', '--until=\"2023-09-27\"']\n",
      "['git', 'log', '--oneline', '--since=\"2023-07-31\"']\n",
      "mapclassify ['git', 'log', '--format=* %aN', '--since=\"2023-07-31\"', '--until=\"2024-07-05\"']\n",
      "['git', 'log', '--oneline', '--since=\"2023-07-31\"']\n",
      "spopt ['git', 'log', '--format=* %aN', '--since=\"2023-07-31\"', '--until=\"2024-06-21\"']\n"
     ]
    }
   ],
   "source": [
    "authors_global = set()\n",
    "authors = {}\n",
    "global_counter = Counter()\n",
    "counters = dict()\n",
    "cmd = ['git', 'log', '--oneline', since_date]\n",
    "total_commits = 0\n",
    "activity = {}\n",
    "for subpackage in packages:\n",
    "    ncommits = 0\n",
    "    released = github_releases[subpackage]['release_date']\n",
    "    if released > since:\n",
    "        os.chdir(CWD)\n",
    "        os.chdir('tmp/{subpackage}'.format(subpackage=subpackage))\n",
    "        ncommits = len(check_output(cmd).splitlines())\n",
    "        print(cmd)\n",
    "        tag_date = tag_dates[subpackage]\n",
    "        tag_date = (datetime.strptime(tag_date, '%Y-%m-%d') + timedelta(days=1)).strftime('%Y-%m-%d')\n",
    "        author_cmd[-1] = '--until=\"{tag_date}\"'.format(tag_date=tag_date)\n",
    "        #cmd_until = cmd + ['--until=\"{tag_date}\"'.format(tag_date=tag_date)]\n",
    "        print(subpackage, author_cmd)\n",
    "\n",
    "\n",
    "        all_authors = check_output(author_cmd).splitlines()\n",
    "        counter = Counter([regularize_identity(author) for author in all_authors])\n",
    "        global_counter += counter\n",
    "        counters.update({subpackage: counter})\n",
    "        unique_authors = sorted(set(all_authors))\n",
    "        authors[subpackage] =  unique_authors\n",
    "        authors_global.update(unique_authors)\n",
    "    total_commits += ncommits\n",
    "    activity[subpackage] = ncommits"
   ]
  },
  {
   "cell_type": "code",
   "execution_count": 42,
   "metadata": {},
   "outputs": [
    {
     "data": {
      "text/plain": [
       "['git',\n",
       " 'log',\n",
       " '--format=* %aN',\n",
       " '--since=\"2023-07-31\"',\n",
       " '--until=\"2024-06-21\"']"
      ]
     },
     "execution_count": 42,
     "metadata": {},
     "output_type": "execute_result"
    }
   ],
   "source": [
    "author_cmd"
   ]
  },
  {
   "cell_type": "code",
   "execution_count": 43,
   "metadata": {},
   "outputs": [
    {
     "data": {
      "text/plain": [
       "'spopt'"
      ]
     },
     "execution_count": 43,
     "metadata": {},
     "output_type": "execute_result"
    }
   ],
   "source": [
    "subpackage"
   ]
  },
  {
   "cell_type": "code",
   "execution_count": 44,
   "metadata": {},
   "outputs": [
    {
     "data": {
      "text/plain": [
       "{b'* Anna Brazdova',\n",
       " b'* Dani Arribas-Bel',\n",
       " b'* Daniela Dan\\xc4\\x8dejov\\xc3\\xa1',\n",
       " b'* Eli Knaap',\n",
       " b'* Florian De Temmerman',\n",
       " b'* Gabriel Agostini',\n",
       " b'* Gareth Simons',\n",
       " b'* Germano Barcelos',\n",
       " b'* James Gaboardi',\n",
       " b'* Krasen Samardzhiev',\n",
       " b'* Levi John Wolf',\n",
       " b'* Lisa',\n",
       " b'* Marek Novotn\\xc3\\xbd',\n",
       " b'* Martin Fleischmann',\n",
       " b'* Olivier Burggraaff',\n",
       " b'* Pedro Amaral',\n",
       " b'* Robin Lenz',\n",
       " b'* Serge Rey',\n",
       " b'* Sergio Rey',\n",
       " b'* Taylor Oshan',\n",
       " b'* Wei Kang',\n",
       " b'* Ziqi Li',\n",
       " b'* anastassiavybornova',\n",
       " b'* dependabot[bot]',\n",
       " b'* eli knaap',\n",
       " b'* ggarzonie',\n",
       " b'* jGaboardi',\n",
       " b'* ljwolf',\n",
       " b'* pre-commit-ci[bot]',\n",
       " b'* rongboxu',\n",
       " b'* stevee404',\n",
       " b'* tmnj'}"
      ]
     },
     "execution_count": 44,
     "metadata": {},
     "output_type": "execute_result"
    }
   ],
   "source": [
    "authors_global"
   ]
  },
  {
   "cell_type": "code",
   "execution_count": 45,
   "metadata": {},
   "outputs": [
    {
     "data": {
      "text/plain": [
       "{'libpysal': 554,\n",
       " 'access': 0,\n",
       " 'esda': 40,\n",
       " 'giddy': 84,\n",
       " 'inequality': 10,\n",
       " 'pointpats': 114,\n",
       " 'segregation': 25,\n",
       " 'spaghetti': 27,\n",
       " 'mgwr': 22,\n",
       " 'momepy': 92,\n",
       " 'spglm': 48,\n",
       " 'spint': 0,\n",
       " 'spreg': 42,\n",
       " 'spvcm': 0,\n",
       " 'tobler': 59,\n",
       " 'mapclassify': 62,\n",
       " 'splot': 0,\n",
       " 'spopt': 73}"
      ]
     },
     "execution_count": 45,
     "metadata": {},
     "output_type": "execute_result"
    }
   ],
   "source": [
    "activity"
   ]
  },
  {
   "cell_type": "code",
   "execution_count": 46,
   "metadata": {},
   "outputs": [],
   "source": [
    "def get_tag(title, level=\"##\", as_string=True):\n",
    "    words = title.split()\n",
    "    tag = \"-\".join([word.lower() for word in words])\n",
    "    heading = level+\" \"+title\n",
    "    line = \"\\n\\n<a name=\\\"{}\\\"></a>\".format(tag)\n",
    "    lines = [line]\n",
    "    lines.append(heading)\n",
    "    if as_string:\n",
    "        return \"\\n\".join(lines)\n",
    "    else:\n",
    "        return lines"
   ]
  },
  {
   "cell_type": "code",
   "execution_count": 47,
   "metadata": {},
   "outputs": [],
   "source": [
    "subs = issue_details.keys()\n",
    "table = []\n",
    "txt = []\n",
    "lines = get_tag(\"Changes by Package\", as_string=False)\n",
    "\n",
    "for sub in subs:\n",
    "    total= issue_details[sub]\n",
    "    pr = pull_details[sub]\n",
    "    \n",
    "    row = [sub, activity[sub], len(total), len(pr)]\n",
    "    table.append(row)\n",
    "    #line = \"\\n<a name=\\\"{sub}\\\"></a>\".format(sub=sub)\n",
    "    #lines.append(line)\n",
    "    #line = \"### {sub}\".format(sub=sub)\n",
    "    #lines.append(line)\n",
    "    lines.extend(get_tag(sub.lower(), \"###\", as_string=False))\n",
    "    for issue in total:\n",
    "        url = issue['html_url']\n",
    "        title = issue['title']\n",
    "        number = issue['number']\n",
    "        line = \"* [#{number}:]({url}) {title} \".format(title=title,\n",
    "                                                     number=number,\n",
    "                                                     url=url)\n",
    "        lines.append(line)\n",
    "\n"
   ]
  },
  {
   "cell_type": "code",
   "execution_count": 48,
   "metadata": {},
   "outputs": [
    {
     "data": {
      "text/plain": [
       "'spopt'"
      ]
     },
     "execution_count": 48,
     "metadata": {},
     "output_type": "execute_result"
    }
   ],
   "source": [
    "sub"
   ]
  },
  {
   "cell_type": "code",
   "execution_count": 49,
   "metadata": {},
   "outputs": [],
   "source": [
    "os.chdir(CWD)\n",
    "\n",
    "import pandas"
   ]
  },
  {
   "cell_type": "code",
   "execution_count": 50,
   "metadata": {},
   "outputs": [],
   "source": [
    "df = pandas.DataFrame(table, columns=['package', 'commits', 'total issues', 'pulls'])"
   ]
  },
  {
   "cell_type": "code",
   "execution_count": 51,
   "metadata": {},
   "outputs": [
    {
     "data": {
      "text/html": [
       "<div>\n",
       "<style scoped>\n",
       "    .dataframe tbody tr th:only-of-type {\n",
       "        vertical-align: middle;\n",
       "    }\n",
       "\n",
       "    .dataframe tbody tr th {\n",
       "        vertical-align: top;\n",
       "    }\n",
       "\n",
       "    .dataframe thead th {\n",
       "        text-align: right;\n",
       "    }\n",
       "</style>\n",
       "<table border=\"1\" class=\"dataframe\">\n",
       "  <thead>\n",
       "    <tr style=\"text-align: right;\">\n",
       "      <th></th>\n",
       "      <th>package</th>\n",
       "      <th>commits</th>\n",
       "      <th>total issues</th>\n",
       "      <th>pulls</th>\n",
       "    </tr>\n",
       "  </thead>\n",
       "  <tbody>\n",
       "    <tr>\n",
       "      <th>0</th>\n",
       "      <td>libpysal</td>\n",
       "      <td>554</td>\n",
       "      <td>36</td>\n",
       "      <td>0</td>\n",
       "    </tr>\n",
       "    <tr>\n",
       "      <th>1</th>\n",
       "      <td>access</td>\n",
       "      <td>0</td>\n",
       "      <td>0</td>\n",
       "      <td>0</td>\n",
       "    </tr>\n",
       "    <tr>\n",
       "      <th>2</th>\n",
       "      <td>esda</td>\n",
       "      <td>40</td>\n",
       "      <td>0</td>\n",
       "      <td>0</td>\n",
       "    </tr>\n",
       "    <tr>\n",
       "      <th>3</th>\n",
       "      <td>giddy</td>\n",
       "      <td>84</td>\n",
       "      <td>0</td>\n",
       "      <td>0</td>\n",
       "    </tr>\n",
       "    <tr>\n",
       "      <th>4</th>\n",
       "      <td>inequality</td>\n",
       "      <td>10</td>\n",
       "      <td>0</td>\n",
       "      <td>0</td>\n",
       "    </tr>\n",
       "  </tbody>\n",
       "</table>\n",
       "</div>"
      ],
      "text/plain": [
       "      package  commits  total issues  pulls\n",
       "0    libpysal      554            36      0\n",
       "1      access        0             0      0\n",
       "2        esda       40             0      0\n",
       "3       giddy       84             0      0\n",
       "4  inequality       10             0      0"
      ]
     },
     "execution_count": 51,
     "metadata": {},
     "output_type": "execute_result"
    }
   ],
   "source": [
    "df.head()"
   ]
  },
  {
   "cell_type": "code",
   "execution_count": 52,
   "metadata": {},
   "outputs": [
    {
     "data": {
      "text/plain": [
       "(18, 4)"
      ]
     },
     "execution_count": 52,
     "metadata": {},
     "output_type": "execute_result"
    }
   ],
   "source": [
    "df.shape"
   ]
  },
  {
   "cell_type": "code",
   "execution_count": 53,
   "metadata": {},
   "outputs": [
    {
     "data": {
      "text/plain": [
       "dict"
      ]
     },
     "execution_count": 53,
     "metadata": {},
     "output_type": "execute_result"
    }
   ],
   "source": [
    "type(counters)"
   ]
  },
  {
   "cell_type": "code",
   "execution_count": 54,
   "metadata": {},
   "outputs": [],
   "source": [
    "df.sort_values(['commits','pulls'], ascending=False)\\\n",
    "  .to_html('./commit_table.html', index=None)"
   ]
  },
  {
   "cell_type": "code",
   "execution_count": 55,
   "metadata": {},
   "outputs": [
    {
     "data": {
      "text/plain": [
       "package         libpysalaccessesdagiddyinequalitypointpatssegr...\n",
       "commits                                                      1252\n",
       "total issues                                                  181\n",
       "pulls                                                          12\n",
       "dtype: object"
      ]
     },
     "execution_count": 55,
     "metadata": {},
     "output_type": "execute_result"
    }
   ],
   "source": [
    "df.sum()"
   ]
  },
  {
   "cell_type": "code",
   "execution_count": 56,
   "metadata": {},
   "outputs": [],
   "source": [
    "contributor_table = pandas.DataFrame.from_dict(counters).fillna(0).astype(int).T"
   ]
  },
  {
   "cell_type": "code",
   "execution_count": 57,
   "metadata": {},
   "outputs": [],
   "source": [
    "contributor_table.to_html('./contributor_table.html')"
   ]
  },
  {
   "cell_type": "code",
   "execution_count": 58,
   "metadata": {},
   "outputs": [
    {
     "data": {
      "text/html": [
       "<div>\n",
       "<style scoped>\n",
       "    .dataframe tbody tr th:only-of-type {\n",
       "        vertical-align: middle;\n",
       "    }\n",
       "\n",
       "    .dataframe tbody tr th {\n",
       "        vertical-align: top;\n",
       "    }\n",
       "\n",
       "    .dataframe thead th {\n",
       "        text-align: right;\n",
       "    }\n",
       "</style>\n",
       "<table border=\"1\" class=\"dataframe\">\n",
       "  <thead>\n",
       "    <tr style=\"text-align: right;\">\n",
       "      <th></th>\n",
       "      <th>commits</th>\n",
       "    </tr>\n",
       "  </thead>\n",
       "  <tbody>\n",
       "    <tr>\n",
       "      <th>Anastassiavybornova</th>\n",
       "      <td>1</td>\n",
       "    </tr>\n",
       "    <tr>\n",
       "      <th>Anna Brazdova</th>\n",
       "      <td>1</td>\n",
       "    </tr>\n",
       "    <tr>\n",
       "      <th>Dani Arribas-Bel</th>\n",
       "      <td>18</td>\n",
       "    </tr>\n",
       "    <tr>\n",
       "      <th>Daniela Dančejová</th>\n",
       "      <td>1</td>\n",
       "    </tr>\n",
       "    <tr>\n",
       "      <th>Dependabot[Bot]</th>\n",
       "      <td>26</td>\n",
       "    </tr>\n",
       "    <tr>\n",
       "      <th>Eli Knaap</th>\n",
       "      <td>154</td>\n",
       "    </tr>\n",
       "    <tr>\n",
       "      <th>Florian De Temmerman</th>\n",
       "      <td>3</td>\n",
       "    </tr>\n",
       "    <tr>\n",
       "      <th>Gabriel Agostini</th>\n",
       "      <td>1</td>\n",
       "    </tr>\n",
       "    <tr>\n",
       "      <th>Gareth Simons</th>\n",
       "      <td>1</td>\n",
       "    </tr>\n",
       "    <tr>\n",
       "      <th>Germano Barcelos</th>\n",
       "      <td>9</td>\n",
       "    </tr>\n",
       "    <tr>\n",
       "      <th>Ggarzonie</th>\n",
       "      <td>1</td>\n",
       "    </tr>\n",
       "    <tr>\n",
       "      <th>James Gaboardi</th>\n",
       "      <td>287</td>\n",
       "    </tr>\n",
       "    <tr>\n",
       "      <th>Jgaboardi</th>\n",
       "      <td>1</td>\n",
       "    </tr>\n",
       "    <tr>\n",
       "      <th>Krasen Samardzhiev</th>\n",
       "      <td>21</td>\n",
       "    </tr>\n",
       "    <tr>\n",
       "      <th>Levi John Wolf</th>\n",
       "      <td>89</td>\n",
       "    </tr>\n",
       "    <tr>\n",
       "      <th>Lisa</th>\n",
       "      <td>1</td>\n",
       "    </tr>\n",
       "    <tr>\n",
       "      <th>Marek Novotný</th>\n",
       "      <td>1</td>\n",
       "    </tr>\n",
       "    <tr>\n",
       "      <th>Martin Fleischmann</th>\n",
       "      <td>398</td>\n",
       "    </tr>\n",
       "    <tr>\n",
       "      <th>Olivier Burggraaff</th>\n",
       "      <td>1</td>\n",
       "    </tr>\n",
       "    <tr>\n",
       "      <th>Pedro Amaral</th>\n",
       "      <td>19</td>\n",
       "    </tr>\n",
       "    <tr>\n",
       "      <th>Pre-Commit-Ci[Bot]</th>\n",
       "      <td>22</td>\n",
       "    </tr>\n",
       "    <tr>\n",
       "      <th>Robin Lenz</th>\n",
       "      <td>1</td>\n",
       "    </tr>\n",
       "    <tr>\n",
       "      <th>Rongboxu</th>\n",
       "      <td>1</td>\n",
       "    </tr>\n",
       "    <tr>\n",
       "      <th>Serge Rey</th>\n",
       "      <td>51</td>\n",
       "    </tr>\n",
       "    <tr>\n",
       "      <th>Stevee404</th>\n",
       "      <td>1</td>\n",
       "    </tr>\n",
       "    <tr>\n",
       "      <th>Taylor Oshan</th>\n",
       "      <td>2</td>\n",
       "    </tr>\n",
       "    <tr>\n",
       "      <th>Tmnj</th>\n",
       "      <td>1</td>\n",
       "    </tr>\n",
       "    <tr>\n",
       "      <th>Wei Kang</th>\n",
       "      <td>13</td>\n",
       "    </tr>\n",
       "    <tr>\n",
       "      <th>Ziqi Li</th>\n",
       "      <td>8</td>\n",
       "    </tr>\n",
       "  </tbody>\n",
       "</table>\n",
       "</div>"
      ],
      "text/plain": [
       "                      commits\n",
       "Anastassiavybornova         1\n",
       "Anna Brazdova               1\n",
       "Dani Arribas-Bel           18\n",
       "Daniela Dančejová           1\n",
       "Dependabot[Bot]            26\n",
       "Eli Knaap                 154\n",
       "Florian De Temmerman        3\n",
       "Gabriel Agostini            1\n",
       "Gareth Simons               1\n",
       "Germano Barcelos            9\n",
       "Ggarzonie                   1\n",
       "James Gaboardi            287\n",
       "Jgaboardi                   1\n",
       "Krasen Samardzhiev         21\n",
       "Levi John Wolf             89\n",
       "Lisa                        1\n",
       "Marek Novotný               1\n",
       "Martin Fleischmann        398\n",
       "Olivier Burggraaff          1\n",
       "Pedro Amaral               19\n",
       "Pre-Commit-Ci[Bot]         22\n",
       "Robin Lenz                  1\n",
       "Rongboxu                    1\n",
       "Serge Rey                  51\n",
       "Stevee404                   1\n",
       "Taylor Oshan                2\n",
       "Tmnj                        1\n",
       "Wei Kang                   13\n",
       "Ziqi Li                     8"
      ]
     },
     "execution_count": 58,
     "metadata": {},
     "output_type": "execute_result"
    }
   ],
   "source": [
    "totals = contributor_table.sum(axis=0).T\n",
    "totals.sort_index().to_frame('commits')"
   ]
  },
  {
   "cell_type": "code",
   "execution_count": 59,
   "metadata": {},
   "outputs": [],
   "source": [
    "totals = contributor_table.sum(axis=0).T\n",
    "totals.sort_index().to_frame('commits').to_html('./commits_by_person.html')"
   ]
  },
  {
   "cell_type": "code",
   "execution_count": 60,
   "metadata": {},
   "outputs": [
    {
     "data": {
      "text/plain": [
       "Martin Fleischmann      398\n",
       "Serge Rey                51\n",
       "Krasen Samardzhiev       21\n",
       "James Gaboardi          287\n",
       "Lisa                      1\n",
       "Anna Brazdova             1\n",
       "Marek Novotný             1\n",
       "Daniela Dančejová         1\n",
       "Pre-Commit-Ci[Bot]       22\n",
       "Levi John Wolf           89\n",
       "Dependabot[Bot]          26\n",
       "Eli Knaap               154\n",
       "Florian De Temmerman      3\n",
       "Robin Lenz                1\n",
       "Wei Kang                 13\n",
       "Jgaboardi                 1\n",
       "Stevee404                 1\n",
       "Ggarzonie                 1\n",
       "Ziqi Li                   8\n",
       "Taylor Oshan              2\n",
       "Tmnj                      1\n",
       "Anastassiavybornova       1\n",
       "Gabriel Agostini          1\n",
       "Gareth Simons             1\n",
       "Pedro Amaral             19\n",
       "Dani Arribas-Bel         18\n",
       "Olivier Burggraaff        1\n",
       "Germano Barcelos          9\n",
       "Rongboxu                  1\n",
       "dtype: int64"
      ]
     },
     "execution_count": 60,
     "metadata": {},
     "output_type": "execute_result"
    }
   ],
   "source": [
    "totals"
   ]
  },
  {
   "cell_type": "code",
   "execution_count": 61,
   "metadata": {},
   "outputs": [],
   "source": [
    "n_commits = df.commits.sum()\n",
    "n_issues = df['total issues'].sum()\n",
    "n_pulls = df.pulls.sum()"
   ]
  },
  {
   "cell_type": "code",
   "execution_count": 62,
   "metadata": {},
   "outputs": [
    {
     "data": {
      "text/plain": [
       "1252"
      ]
     },
     "execution_count": 62,
     "metadata": {},
     "output_type": "execute_result"
    }
   ],
   "source": [
    "n_commits"
   ]
  },
  {
   "cell_type": "code",
   "execution_count": 63,
   "metadata": {},
   "outputs": [],
   "source": [
    "#Overall, there were 719 commits that closed 240 issues, together with 105 pull requests across 12 packages since our last release on 2017-11-03.\n",
    "#('{0} Here is a really long '\n",
    "#           'sentence with {1}').format(3, 5))\n",
    "line = ('Overall, there were {n_commits} commits that closed {n_issues} issues'  \n",
    "    ' since our last release' \n",
    "        ' on {since_date}.\\n'.format(n_commits=n_commits, n_issues=n_issues,\n",
    "        since_date = start_date))"
   ]
  },
  {
   "cell_type": "code",
   "execution_count": 64,
   "metadata": {},
   "outputs": [
    {
     "data": {
      "text/plain": [
       "'Overall, there were 1252 commits that closed 181 issues since our last release on 2023-07-31.\\n'"
      ]
     },
     "execution_count": 64,
     "metadata": {},
     "output_type": "execute_result"
    }
   ],
   "source": [
    "line"
   ]
  },
  {
   "cell_type": "markdown",
   "metadata": {},
   "source": [
    "## append html files to end of changes.md with tags for toc"
   ]
  },
  {
   "cell_type": "code",
   "execution_count": 65,
   "metadata": {},
   "outputs": [],
   "source": [
    "with open('changes.md', 'w') as fout:\n",
    "    fout.write(line)\n",
    "    fout.write(\"\\n\".join(lines))\n",
    "    fout.write(get_tag(\"Contributors\"))\n",
    "    fout.write(\"\\n\\nMany thanks to all of the following individuals who contributed to this release:\\n\\n\")\n",
    "    \n",
    "    \n",
    "    \n",
    "    totals = contributor_table.sum(axis=0).T\n",
    "    contributors = totals.index.values\n",
    "    contributors.sort()\n",
    "    contributors = contributors.tolist() \n",
    "    contributors = [ f'\\n - {contributor}' for contributor in contributors]\n",
    "    fout.write(\"\".join(contributors))\n",
    "    \n"
   ]
  },
  {
   "cell_type": "code",
   "execution_count": 66,
   "metadata": {},
   "outputs": [
    {
     "data": {
      "text/html": [
       "<div>\n",
       "<style scoped>\n",
       "    .dataframe tbody tr th:only-of-type {\n",
       "        vertical-align: middle;\n",
       "    }\n",
       "\n",
       "    .dataframe tbody tr th {\n",
       "        vertical-align: top;\n",
       "    }\n",
       "\n",
       "    .dataframe thead th {\n",
       "        text-align: right;\n",
       "    }\n",
       "</style>\n",
       "<table border=\"1\" class=\"dataframe\">\n",
       "  <thead>\n",
       "    <tr style=\"text-align: right;\">\n",
       "      <th></th>\n",
       "      <th>package</th>\n",
       "      <th>commits</th>\n",
       "      <th>total issues</th>\n",
       "      <th>pulls</th>\n",
       "    </tr>\n",
       "  </thead>\n",
       "  <tbody>\n",
       "    <tr>\n",
       "      <th>0</th>\n",
       "      <td>libpysal</td>\n",
       "      <td>554</td>\n",
       "      <td>36</td>\n",
       "      <td>0</td>\n",
       "    </tr>\n",
       "    <tr>\n",
       "      <th>1</th>\n",
       "      <td>access</td>\n",
       "      <td>0</td>\n",
       "      <td>0</td>\n",
       "      <td>0</td>\n",
       "    </tr>\n",
       "    <tr>\n",
       "      <th>2</th>\n",
       "      <td>esda</td>\n",
       "      <td>40</td>\n",
       "      <td>0</td>\n",
       "      <td>0</td>\n",
       "    </tr>\n",
       "    <tr>\n",
       "      <th>3</th>\n",
       "      <td>giddy</td>\n",
       "      <td>84</td>\n",
       "      <td>0</td>\n",
       "      <td>0</td>\n",
       "    </tr>\n",
       "    <tr>\n",
       "      <th>4</th>\n",
       "      <td>inequality</td>\n",
       "      <td>10</td>\n",
       "      <td>0</td>\n",
       "      <td>0</td>\n",
       "    </tr>\n",
       "  </tbody>\n",
       "</table>\n",
       "</div>"
      ],
      "text/plain": [
       "      package  commits  total issues  pulls\n",
       "0    libpysal      554            36      0\n",
       "1      access        0             0      0\n",
       "2        esda       40             0      0\n",
       "3       giddy       84             0      0\n",
       "4  inequality       10             0      0"
      ]
     },
     "execution_count": 66,
     "metadata": {},
     "output_type": "execute_result"
    }
   ],
   "source": [
    "df.head()"
   ]
  },
  {
   "cell_type": "code",
   "execution_count": 67,
   "metadata": {},
   "outputs": [
    {
     "data": {
      "text/html": [
       "<div>\n",
       "<style scoped>\n",
       "    .dataframe tbody tr th:only-of-type {\n",
       "        vertical-align: middle;\n",
       "    }\n",
       "\n",
       "    .dataframe tbody tr th {\n",
       "        vertical-align: top;\n",
       "    }\n",
       "\n",
       "    .dataframe thead th {\n",
       "        text-align: right;\n",
       "    }\n",
       "</style>\n",
       "<table border=\"1\" class=\"dataframe\">\n",
       "  <thead>\n",
       "    <tr style=\"text-align: right;\">\n",
       "      <th></th>\n",
       "      <th>package</th>\n",
       "      <th>commits</th>\n",
       "      <th>total issues</th>\n",
       "      <th>pulls</th>\n",
       "    </tr>\n",
       "  </thead>\n",
       "  <tbody>\n",
       "    <tr>\n",
       "      <th>0</th>\n",
       "      <td>libpysal</td>\n",
       "      <td>554</td>\n",
       "      <td>36</td>\n",
       "      <td>0</td>\n",
       "    </tr>\n",
       "    <tr>\n",
       "      <th>1</th>\n",
       "      <td>access</td>\n",
       "      <td>0</td>\n",
       "      <td>0</td>\n",
       "      <td>0</td>\n",
       "    </tr>\n",
       "    <tr>\n",
       "      <th>2</th>\n",
       "      <td>esda</td>\n",
       "      <td>40</td>\n",
       "      <td>0</td>\n",
       "      <td>0</td>\n",
       "    </tr>\n",
       "    <tr>\n",
       "      <th>3</th>\n",
       "      <td>giddy</td>\n",
       "      <td>84</td>\n",
       "      <td>0</td>\n",
       "      <td>0</td>\n",
       "    </tr>\n",
       "    <tr>\n",
       "      <th>4</th>\n",
       "      <td>inequality</td>\n",
       "      <td>10</td>\n",
       "      <td>0</td>\n",
       "      <td>0</td>\n",
       "    </tr>\n",
       "    <tr>\n",
       "      <th>5</th>\n",
       "      <td>pointpats</td>\n",
       "      <td>114</td>\n",
       "      <td>8</td>\n",
       "      <td>5</td>\n",
       "    </tr>\n",
       "    <tr>\n",
       "      <th>6</th>\n",
       "      <td>segregation</td>\n",
       "      <td>25</td>\n",
       "      <td>0</td>\n",
       "      <td>0</td>\n",
       "    </tr>\n",
       "    <tr>\n",
       "      <th>7</th>\n",
       "      <td>spaghetti</td>\n",
       "      <td>27</td>\n",
       "      <td>10</td>\n",
       "      <td>0</td>\n",
       "    </tr>\n",
       "    <tr>\n",
       "      <th>8</th>\n",
       "      <td>mgwr</td>\n",
       "      <td>22</td>\n",
       "      <td>0</td>\n",
       "      <td>0</td>\n",
       "    </tr>\n",
       "    <tr>\n",
       "      <th>9</th>\n",
       "      <td>momepy</td>\n",
       "      <td>92</td>\n",
       "      <td>90</td>\n",
       "      <td>0</td>\n",
       "    </tr>\n",
       "    <tr>\n",
       "      <th>10</th>\n",
       "      <td>spglm</td>\n",
       "      <td>48</td>\n",
       "      <td>0</td>\n",
       "      <td>0</td>\n",
       "    </tr>\n",
       "    <tr>\n",
       "      <th>11</th>\n",
       "      <td>spint</td>\n",
       "      <td>0</td>\n",
       "      <td>0</td>\n",
       "      <td>0</td>\n",
       "    </tr>\n",
       "    <tr>\n",
       "      <th>12</th>\n",
       "      <td>spreg</td>\n",
       "      <td>42</td>\n",
       "      <td>7</td>\n",
       "      <td>7</td>\n",
       "    </tr>\n",
       "    <tr>\n",
       "      <th>13</th>\n",
       "      <td>spvcm</td>\n",
       "      <td>0</td>\n",
       "      <td>0</td>\n",
       "      <td>0</td>\n",
       "    </tr>\n",
       "    <tr>\n",
       "      <th>14</th>\n",
       "      <td>tobler</td>\n",
       "      <td>59</td>\n",
       "      <td>0</td>\n",
       "      <td>0</td>\n",
       "    </tr>\n",
       "    <tr>\n",
       "      <th>15</th>\n",
       "      <td>mapclassify</td>\n",
       "      <td>62</td>\n",
       "      <td>14</td>\n",
       "      <td>0</td>\n",
       "    </tr>\n",
       "    <tr>\n",
       "      <th>16</th>\n",
       "      <td>splot</td>\n",
       "      <td>0</td>\n",
       "      <td>0</td>\n",
       "      <td>0</td>\n",
       "    </tr>\n",
       "  </tbody>\n",
       "</table>\n",
       "</div>"
      ],
      "text/plain": [
       "        package  commits  total issues  pulls\n",
       "0      libpysal      554            36      0\n",
       "1        access        0             0      0\n",
       "2          esda       40             0      0\n",
       "3         giddy       84             0      0\n",
       "4    inequality       10             0      0\n",
       "5     pointpats      114             8      5\n",
       "6   segregation       25             0      0\n",
       "7     spaghetti       27            10      0\n",
       "8          mgwr       22             0      0\n",
       "9        momepy       92            90      0\n",
       "10        spglm       48             0      0\n",
       "11        spint        0             0      0\n",
       "12        spreg       42             7      7\n",
       "13        spvcm        0             0      0\n",
       "14       tobler       59             0      0\n",
       "15  mapclassify       62            14      0\n",
       "16        splot        0             0      0"
      ]
     },
     "execution_count": 67,
     "metadata": {},
     "output_type": "execute_result"
    }
   ],
   "source": [
    "df.head(17)"
   ]
  },
  {
   "cell_type": "code",
   "execution_count": 68,
   "metadata": {},
   "outputs": [
    {
     "data": {
      "text/plain": [
       "12"
      ]
     },
     "execution_count": 68,
     "metadata": {},
     "output_type": "execute_result"
    }
   ],
   "source": [
    "n_pulls"
   ]
  },
  {
   "cell_type": "code",
   "execution_count": null,
   "metadata": {},
   "outputs": [],
   "source": []
  }
 ],
 "metadata": {
  "kernelspec": {
   "display_name": "Python 3 (ipykernel)",
   "language": "python",
   "name": "python3"
  },
  "language_info": {
   "codemirror_mode": {
    "name": "ipython",
    "version": 3
   },
   "file_extension": ".py",
   "mimetype": "text/x-python",
   "name": "python",
   "nbconvert_exporter": "python",
   "pygments_lexer": "ipython3",
   "version": "3.12.2"
  }
 },
 "nbformat": 4,
 "nbformat_minor": 4
}
